{
 "cells": [
  {
   "cell_type": "markdown",
   "metadata": {
    "collapsed": true
   },
   "source": [
    "Word Segment"
   ]
  },
  {
   "cell_type": "code",
   "execution_count": null,
   "metadata": {
    "collapsed": true
   },
   "outputs": [],
   "source": [
    "#!pip install wordcloud   去下載 wordcloud .whl檔 安裝後就可以import了\n",
    "                            # pip install wordcloud-1.3.2-xxx-xxxxx.whl"
   ]
  },
  {
   "cell_type": "code",
   "execution_count": 113,
   "metadata": {},
   "outputs": [],
   "source": [
    "import pymongo\n",
    "from pymongo import MongoClient\n",
    "import jieba\n",
    "import collections\n",
    "from wordcloud import WordCloud\n",
    "import matplotlib\n",
    "import jieba.analyse"
   ]
  },
  {
   "cell_type": "code",
   "execution_count": 2,
   "metadata": {
    "collapsed": true
   },
   "outputs": [],
   "source": [
    "conn=MongoClient('127.0.0.1',27017)##連Mongodb\n",
    "db = conn.text_mining ##創造DB  改程式碼的時候注意一下 這行的DB也要改\n",
    "db.authenticate('text_mining','bb102',source='text_mining')#text_mining帳號 #bb102密碼 #test123允許儲存的db\n",
    "collection = db['ptt_article']##創造collection\n",
    "# collection.insert(dir)##insert資料\n",
    "\n",
    "## 帳號就是DB名字 密碼bb102  "
   ]
  },
  {
   "cell_type": "code",
   "execution_count": 107,
   "metadata": {
    "collapsed": true
   },
   "outputs": [],
   "source": [
    "# 载入词典\n",
    "\n",
    "\n",
    "#encoding=utf-8\n",
    "jieba.load_userdict(\"C:\\\\Users\\\\Java\\\\Desktop\\\\place.txt\")"
   ]
  },
  {
   "cell_type": "code",
   "execution_count": 28,
   "metadata": {},
   "outputs": [],
   "source": [
    "contentList = []\n",
    "for item in collection.find({\"標題\":{'$regex':\"京都\"}}, {\"標題\": 1, \"內文\": 1, \"_id\": 0}):\n",
    "    contentList.append(item)"
   ]
  },
  {
   "cell_type": "code",
   "execution_count": 29,
   "metadata": {
    "scrolled": true
   },
   "outputs": [
    {
     "data": {
      "text/plain": [
       "6517"
      ]
     },
     "execution_count": 29,
     "metadata": {},
     "output_type": "execute_result"
    }
   ],
   "source": [
    "len(contentList)"
   ]
  },
  {
   "cell_type": "code",
   "execution_count": 118,
   "metadata": {},
   "outputs": [
    {
     "data": {
      "text/plain": [
       "'[行程] 新手京都蜜月五天四夜自助請益'"
      ]
     },
     "execution_count": 118,
     "metadata": {},
     "output_type": "execute_result"
    }
   ],
   "source": [
    "contentList[2][\"標題\"]"
   ]
  },
  {
   "cell_type": "code",
   "execution_count": 101,
   "metadata": {
    "scrolled": true
   },
   "outputs": [
    {
     "data": {
      "text/plain": [
       "'\\n作者iPhone777 ()看板Japan_Travel標題[資訊] 2014 京都賞楓 依區域小整理時間Thu Sep 25 13:53:48 2014\\n京都賞楓 2014年版 (14/09/25更新)\\n\\n圖文\\n\\nhttp://honey777honey777.pixnet.net/blog/post/43380420\\n\\n\\n2013年京都10月平均最低溫約16度，11月約8-9度\\n\\n早晚溫差平均也會到將近10度\\n\\n我們常講說當氣溫15度以下時會開始上色\\n\\n到8度時也就是紅葉出現之時!\\n\\n是低，從10月份開始，各地就是楓葉的時節摟!\\n\\n溫差也相當大，大家看白天楓、衝夜楓時要注意保暖唷!\\n\\n以京都為例，2013年10月開始湧現賞楓人潮\\n\\n9月旅遊人數約370萬\\n\\n10月約440萬，到了11月會到高峰510萬\\n\\n12月還是有470萬呢~\\n\\n從9月底、10月各寺院的秋季特別拜觀也會開始，手邊如有資訊也會新增上來\\n\\n這篇是以賞楓名所的地區做分類，大多都有連結可以點到香蕉寫過的遊記\\n\\n祝福大家衝楓愉快^^\\n\\n(1) 清水寺區域 (推薦指數  擁擠指數)\\n\\n清水寺是京都屈指也是世界級景點，賞楓大概也是必去\\n\\n清水寺日間\\n\\n清水寺夜楓\\n\\n夜楓開放時間為11月14日～12月7日(18:30~21:30)\\n\\n想看看菩薩慈光就要來清水寺看!\\n\\n清水寺周邊-高台寺(白天)\\n\\n高台寺鏡花水月的夜楓(本年1\"0\"月24日~12月14日)\\n\\n知恩院夜楓(本年11月1日~11月30日)\\n\\n青蓮院夜楓(10月24日~12月7日)\\n\\n園德院夜楓(10月24日～12月14日)\\n\\n也是值得一遊!\\n\\n有時間可順道參觀成就院(本年秋季特別開放11月17日～12月7日)\\n\\n(2) 永觀堂區域 (推薦指數  擁擠指數)\\n\\n永觀堂正式名稱為「禪林寺」，又名紅葉的永觀堂，楓葉之強大不言而喻\\n\\n人潮非常恐怖，但因為面積較大，擁擠指數-1\\n\\n永觀堂日間\\n\\n上圖是永觀堂境內一個名為放生池的地方，在極樂橋上拍攝\\n\\n以楓葉為主，色彩繽紛之光景獲得大人氣~必訪!!!\\n\\n永觀堂夜楓，歷年見頃11月中旬～11月下旬\\n\\n2014年夜楓開放時間為11月8日～12月4日\\n\\n周邊還有的南禪寺(銀杏+楓葉大推)\\n\\n南禪寺遊記\\n\\n南禪寺塔頭天授庵夜楓(今年夜楓11月15日～11月30日)\\n\\n真如堂，又名「真正極樂寺」(しんしょうごくらくじ)\\n\\n看真如堂楓葉不用入場費\\n\\n周邊還有「金戒光明寺」都挺推薦的!\\n\\n(3) 嵐山區域(推薦指數  擁擠指數)\\n\\n世界遺産天龍寺是嵐山周邊最有名\\n\\n借景嵐山還有龜山，紅葉和山景共同演出壯闊優美之景象!\\n\\n但心目中超越天龍寺...可說是京都No.1的紅葉!\\n\\n「常寂光寺」!!!\\n\\n從常寂光寺多寶塔周圍可以遠望嵯峨野，並且被有質感紅葉包圍...感動...\\n\\n常寂光寺遊記1 、 遊記2\\n\\n塔頭宝厳院有非常特別的回遊式山水庭園 「獅子吼（ししく）の庭」\\n\\n宝厳院夜楓11月14日~12月7日也是特別公開唷!\\n\\n如果有機會、排的到的話，也請不要錯過嵐山小火車!\\n\\n二尊院 以及 宝筐院 等也是推薦追加的名所\\n\\n嵐山沿線的仁和寺 (推薦指數3.5 )\\n\\n伽藍和深紅楓葉相輝映再配合常綠樹形成絕妙的景色\\n\\n金閣寺、經過龍安寺再到仁和寺的賞楓路線也是推薦!\\n\\n延伸行程~北野天滿宮號稱紅葉神院的もみじ苑也是大獲好評景點\\n\\n(11月1日～12月7日もみじ苑特別公開，夜楓也於同時開放)\\n\\n(4) 東福寺區域(推薦指數 擁擠指數 )\\n\\n眼前一片紅葉雲海的形容，就是東福寺!\\n\\n(但通天橋擁擠度破表 )\\n\\n今年看楓拝観時間為:11月1日~12月7日\\n\\n鄰近的塔頭「天得院」，秋の特別拝観從11月14日~30日唷!\\n\\n勝林寺從11月16日~11月30日，時間更短，敬請把握唷\\n\\n(5) 三千院區域  (推薦指數 擁擠指數 )\\n\\n在京都市北部，見頃也比較早，往年約11月20日就到嚕!\\n\\n周邊的「寂光院」、有不断桜的「実光院」是相對不擁擠且漂亮之區域唷！\\n\\n宝泉院於11月2日～12月1日有開放夜楓唷!\\n\\n(6)叡山電鉄沿線(推薦指數)\\n\\n前年首次開放的白龍園，是可以慢慢悠閒享受紅葉的好所在\\n\\n瑠璃光院(2013年5月31日起暫停開放...今年也沒傳出要再開)\\n\\n一乘寺區共有5處\\n\\na.詩仙堂\\n\\nb.圓光寺\\n\\nc.曼殊院門跡\\n\\nd.金福寺\\n\\ne.赤山禅院(本年11月23日有珠数供養活動)\\n\\n想去貴船神社走一走~還有電車的紅葉隧道等著大家唷!\\n\\n「實相院」在岩倉站下，雖然不能拍照，但大推\\n\\n如果到了12月中還可以看的大點就屬下鴨神社(出町柳駅)\\n\\n(7)山科區(推薦指數 )\\n\\n醍醐寺 極為有名的賞櫻名所，但楓葉也相當不得了\\n\\n醍醐寺夜楓2014年預定從11月15日～12月7日開放，香蕉評價也極高\\n\\n毘沙門堂，夜楓也從去年開始開放了! 夜楓遊記\\n\\n去年開放時間是11月16日~29日，時間不長，但值得試試看唷!\\n\\n三大美女小野小町的故居-「隨心院」\\n\\n夜楓11月15日～11月30日，去年香蕉因為趕著和朋友見面過家門而不入\\n\\n先提供官網^^a\\n\\n和隨心院同樣在小野站下車的「勧修寺」也有開放夜楓觀賞\\n\\n(8)鷹峰（たかがみね）一區(推薦指數3.5 擁擠指數 )\\n\\n這一帶當然一定看的就是鷹峰三寺:\\n\\n源光庵、光悅寺、常照寺\\n\\n尤其是源光庵的「悟りの窓」與「迷いの窓」十分有名\\n\\n以京都的觀光人潮來講，還勉強可以說是「穴場」的名所\\n\\n推薦給不太喜歡人潮的大大\\n\\n(9)高雄區域(推薦指數 擁擠指數 )\\n\\n因為是高雄山城，高雄的三尾~\\n\\n神護寺、西明寺及高山寺的見頃大約在11月中\\n\\n如果你/妳是11月初就到京都或許這裡是最佳選擇\\n\\n但無庸置疑的是從11月的第2周開始這裡人潮也是開始湧現\\n\\n搭乘公車的大大要多抓點時間阿!\\n\\n另外神護寺今年夜楓開放時間為11月1日~30日，果然很早就開始\\n\\n但如果是30日去的話，大概...都是落葉了吧^^a\\n\\n(10)西京區等其他區域\\n\\n長岡京市的光明寺(推薦指數 )\\n\\n交通方式:阪急長岡天神駅轉乘阪急巴士，在「旭が丘ホーム前」下車徒歩3分\\n\\n可以和光明寺排在同一天的善峯寺(建議11月底之前前往)\\n\\n長岡天満宮\\n\\n花の寺-勝持寺\\n\\n大原野神社\\n\\n京都北區則推薦高桐院、等持院\\n\\n京都的賞楓時節真的是非常的激烈，尤其是11月中到下旬，到哪裡都是人啊\\n\\n其實比起選地點，或許挑時間是更重要\\n\\n早點起床早點出門，尤其是熱門點更是如此\\n\\n11月底12月初之後其實也不是沒有楓葉可以看\\n\\n就是挑像是下鴨神社、京都御苑或是以紅葉地毯為目標\\n\\n像是高桐院、毘沙門堂甚至是圓光寺、宝筐院應該都可以考慮看看\\n\\n大家一起快樂賞楓吧!!\\n\\n\\n--\\n愛家 愛台灣 愛京都 香蕉草莓的部落格\\nhttp://honey777honey777.pixnet.net/blog\\n& 新居的開箱文\\nhttp://honey777honey777.pixnet.net/blog/post/177039573\\n\\n--\\n'"
      ]
     },
     "execution_count": 101,
     "metadata": {},
     "output_type": "execute_result"
    }
   ],
   "source": [
    "contentList[1][\"內文\"].split(\"※ 發信站:\")[0]"
   ]
  },
  {
   "cell_type": "code",
   "execution_count": 119,
   "metadata": {},
   "outputs": [],
   "source": [
    "words = jieba.cut(contentList[2][\"內文\"].split(\"※ 發信站:\")[0], \\\n",
    "                 cut_all = False,\\\n",
    "                 )"
   ]
  },
  {
   "cell_type": "code",
   "execution_count": 120,
   "metadata": {},
   "outputs": [],
   "source": [
    "ws = [item for item in words]"
   ]
  },
  {
   "cell_type": "code",
   "execution_count": 121,
   "metadata": {},
   "outputs": [
    {
     "data": {
      "text/plain": [
       "416"
      ]
     },
     "execution_count": 121,
     "metadata": {},
     "output_type": "execute_result"
    }
   ],
   "source": [
    "len(ws)"
   ]
  },
  {
   "cell_type": "code",
   "execution_count": 124,
   "metadata": {
    "collapsed": true
   },
   "outputs": [],
   "source": [
    "ignore = ['\\n',' ',':','/','的','，','(', ')','!','是','也','～','...','-']\n",
    "counter=collections.Counter(ws)\n",
    "for word in list(counter):\n",
    "    if word in ignore:\n",
    "        del counter[word]"
   ]
  },
  {
   "cell_type": "code",
   "execution_count": 125,
   "metadata": {
    "scrolled": true
   },
   "outputs": [
    {
     "name": "stdout",
     "output_type": "stream",
     "text": [
      "Counter({'京都': 8, '飯店': 5, '9': 5, '行程': 4, '宇治': 4, '有': 3, '關西': 3, '機場': 3, '車站': 3, '￼': 2, '蜜月': 2, '五天': 2, '四夜': 2, '自助': 2, '遊': 2, '好': 2, '所以': 2, '~': 2, '13': 2, 'mystays': 2, 'hotel': 2, '町': 2, '地鐵': 2, '烏丸線': 2, '&': 2, '上': 2, '早餐': 2, '至': 2, '三井': 2, '新町別': 2, '邸': 2, '錦市場': 2, '錦天滿宮': 2, '新': 2, '大阪': 2, 'haruka': 2, '作者': 1, 'aspir': 1, '嘿': 1, '我會': 1, '加油': 1, 'N': 1, '看板': 1, 'Japan': 1, '_': 1, 'Travel': 1, '標題': 1, '[': 1, ']': 1, '新手': 1, '請益': 1, '時間': 1, 'Thu': 1, 'Sep': 1, '25': 1, '15': 1, '36': 1, '03': 1, '2014': 1, '各位': 1, '版': 1, '友好': 1, '：': 1, '明天': 1, '就要': 1, '去': 1, '因為': 1, '之前': 1, '在': 1, '籌備': 1, '婚禮': 1, '只訂': 1, '和': 1, '機票': 1, '這幾天': 1, '惡補功': 1, '課排': 1, '以下': 1, '規劃': 1, '去年': 1, '跟團': 1, '已': 1, '去過': 1, '清水寺': 1, '嵐山': 1, '金閣寺': 1, '這次': 1, '就': 1, '沒': 1, '排進': 1, '還請': 1, '大家': 1, '指點': 1, '是否': 1, '不順': 1, '地方': 1, '或': 1, '交通工具': 1, '建議': 1, '謝謝': 1, '26': 1, '五': 1, 'day1': 1, '55': 1, '新京極': 1, '通': 1, '三條通': 1, '木屋': 1, '先斗町': 1, '27': 1, '六': 1, 'day2': 1, 'anteroom': 1, '九條': 1, '東福寺': 1, '伏見稻荷大社': 1, 'JR': 1, '稻荷': 1, '平等': 1, '院': 1, '橋': 1, '川': 1, '神社': 1, '中村藤吉': 1, '晚餐': 1, '28': 1, '日': 1, 'day3anteroom': 1, '後': 1, '46': 1, '號公車': 1, '上賀茂神社': 1, '賀茂': 1, '手作': 1, '市集': 1, '祇': 1, '園': 1, '四條': 1, '河原': 1, 'opa': 1, 'mina': 1, '29': 1, '一': 1, 'day4': 1, '寄': 1, '行李': 1, '二條城': 1, '蕾': 1, '姆': 1, '黑門': 1, '市場': 1, '梅田': 1, '空中': 1, '庭園': 1, '夜景': 1, '剛剛查': 1, '了': 1, 'BOOKS': 1, 'Mystays': 1, '還有': 1, '空房': 1, '第': 1, '4': 1, '天': 1, '改成': 1, '還是': 1, '住': 1, '伊右': 1, '衛門': 1, '銀閣寺': 1, '哲學之道': 1, '30': 1, '二': 1, 'day5': 1, '10': 1, '班機': 1, '改': 1, 'p': 1, '.': 1, 's': 1, '這樣': 1, '全住': 1, '比': 1, '較': 1, '順': 1, '嗎': 1, '?': 1})\n"
     ]
    }
   ],
   "source": [
    "print(counter)"
   ]
  },
  {
   "cell_type": "code",
   "execution_count": 83,
   "metadata": {},
   "outputs": [
    {
     "name": "stdout",
     "output_type": "stream",
     "text": [
      "Full Mode: 我/ 来到/ 北京/ 清华/ 清华大学/ 华大/ 大学\n"
     ]
    }
   ],
   "source": [
    "seg_list = jieba.cut(\"我来到北京清华大学\", cut_all=True)\n",
    "print(\"Full Mode: \" + \"/ \".join(seg_list))  # 全模式"
   ]
  },
  {
   "cell_type": "code",
   "execution_count": 84,
   "metadata": {},
   "outputs": [
    {
     "name": "stdout",
     "output_type": "stream",
     "text": [
      "Default Mode: 我/ 来到/ 北京/ 清华大学\n"
     ]
    }
   ],
   "source": [
    "seg_list = jieba.cut(\"我来到北京清华大学\", cut_all=False)\n",
    "print(\"Default Mode: \" + \"/ \".join(seg_list))  # 精确模式"
   ]
  },
  {
   "cell_type": "code",
   "execution_count": 134,
   "metadata": {},
   "outputs": [],
   "source": [
    "# TF-IDF\n",
    "\n",
    "tags = jieba.analyse.extract_tags(contentList[1][\"內文\"].split(\"※ 發信站:\")[0], topK=20)\n",
    "\n",
    "#关键词提取所使用逆向文件频率（IDF）文本语料库可以切换成自定义语料库的路径\n",
    "# file_name为自定义语料库的路径\n",
    "# jieba.analyse.set_idf_path(file_name) \n",
    "\n",
    "#关键词提取所使用停止词（Stop Words）文本语料库可以切换成自定义语料库的路径\n",
    "#用法： jieba.analyse.set_stop_words(file_name) # file_name为自定义语料库的路径"
   ]
  },
  {
   "cell_type": "code",
   "execution_count": 135,
   "metadata": {},
   "outputs": [
    {
     "data": {
      "text/plain": [
       "['11',\n",
       " '指數',\n",
       " '夜楓',\n",
       " '推薦',\n",
       " '12',\n",
       " '開放',\n",
       " '時間',\n",
       " '10',\n",
       " '擁擠',\n",
       " '30',\n",
       " '京都',\n",
       " '賞楓',\n",
       " '開始',\n",
       " '紅葉',\n",
       " '14',\n",
       " '清水寺',\n",
       " '永觀堂',\n",
       " '2014',\n",
       " '特別',\n",
       " '遊記']"
      ]
     },
     "execution_count": 135,
     "metadata": {},
     "output_type": "execute_result"
    }
   ],
   "source": [
    "tags"
   ]
  },
  {
   "cell_type": "code",
   "execution_count": 136,
   "metadata": {},
   "outputs": [
    {
     "data": {
      "text/plain": [
       "['指數',\n",
       " '推薦',\n",
       " '紅葉',\n",
       " '時間',\n",
       " '京都',\n",
       " '擁擠',\n",
       " '開始',\n",
       " '開放',\n",
       " '區域',\n",
       " '楓葉',\n",
       " '香蕉',\n",
       " '小野',\n",
       " '人潮',\n",
       " '大家',\n",
       " '名所',\n",
       " '天神',\n",
       " '湧現',\n",
       " '注意',\n",
       " '形成',\n",
       " '嵐山']"
      ]
     },
     "execution_count": 136,
     "metadata": {},
     "output_type": "execute_result"
    }
   ],
   "source": [
    "# 基于 TextRank 算法的关键词抽取\n",
    "\n",
    "jieba.analyse.textrank(contentList[1][\"內文\"].split(\"※ 發信站:\")[0], topK=20, withWeight=False, allowPOS=('ns', 'n', 'vn', 'v')) "
   ]
  }
 ],
 "metadata": {
  "kernelspec": {
   "display_name": "Python 3",
   "language": "python",
   "name": "python3"
  },
  "language_info": {
   "codemirror_mode": {
    "name": "ipython",
    "version": 3
   },
   "file_extension": ".py",
   "mimetype": "text/x-python",
   "name": "python",
   "nbconvert_exporter": "python",
   "pygments_lexer": "ipython3",
   "version": "3.6.1"
  }
 },
 "nbformat": 4,
 "nbformat_minor": 1
}
